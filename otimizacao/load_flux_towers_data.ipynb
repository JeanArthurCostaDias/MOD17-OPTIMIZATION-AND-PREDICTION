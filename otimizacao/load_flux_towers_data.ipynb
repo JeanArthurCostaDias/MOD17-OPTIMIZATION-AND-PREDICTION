{
 "cells": [
  {
   "cell_type": "markdown",
   "metadata": {},
   "source": [
    "# Importacoes"
   ]
  },
  {
   "cell_type": "code",
   "execution_count": 1,
   "metadata": {},
   "outputs": [],
   "source": [
    "import numpy as np\n",
    "import pandas as pd\n",
    "from sklearn.metrics import mean_absolute_error, mean_squared_error\n"
   ]
  },
  {
   "cell_type": "markdown",
   "metadata": {},
   "source": [
    "# Carregando GPP das Torres"
   ]
  },
  {
   "cell_type": "markdown",
   "metadata": {},
   "source": [
    "## Santarem"
   ]
  },
  {
   "cell_type": "code",
   "execution_count": 2,
   "metadata": {},
   "outputs": [],
   "source": [
    "observacoes_santarem = pd.read_csv('dados_calculados_torres/observacoes_santarem.csv', date_format='index')\n",
    "observacoes_santarem.index = pd.to_datetime(observacoes_santarem['index'])\n",
    "observacoes_santarem = observacoes_santarem['GPP']"
   ]
  },
  {
   "cell_type": "code",
   "execution_count": 3,
   "metadata": {},
   "outputs": [],
   "source": [
    "observacoes_santarem_diario = pd.read_csv('dados_calculados_torres/observacoes_santarem_diario.csv', date_format='index')\n",
    "observacoes_santarem_diario.index = pd.to_datetime(observacoes_santarem_diario['index'])\n",
    "observacoes_santarem_diario = observacoes_santarem_diario['GPP']"
   ]
  },
  {
   "cell_type": "markdown",
   "metadata": {},
   "source": [
    "## Peru"
   ]
  },
  {
   "cell_type": "code",
   "execution_count": 4,
   "metadata": {},
   "outputs": [],
   "source": [
    "observacoes_peru = pd.read_csv('dados_calculados_torres/observacoes_peru.csv', date_format='index')\n",
    "observacoes_peru.index = pd.to_datetime(observacoes_peru['index'])\n",
    "observacoes_peru = observacoes_peru['GPP']"
   ]
  },
  {
   "cell_type": "code",
   "execution_count": 5,
   "metadata": {},
   "outputs": [],
   "source": [
    "observacoes_peru_diario = pd.read_csv('dados_calculados_torres/observacoes_peru_diario.csv', date_format='index')\n",
    "observacoes_peru_diario.index = pd.to_datetime(observacoes_peru_diario['index'])\n",
    "observacoes_peru_diario = observacoes_peru_diario['GPP']"
   ]
  },
  {
   "cell_type": "markdown",
   "metadata": {},
   "source": [
    "## Caxiuana"
   ]
  },
  {
   "cell_type": "code",
   "execution_count": 6,
   "metadata": {},
   "outputs": [],
   "source": [
    "observacoes_caxiuana = pd.read_csv('dados_calculados_torres/observacoes_caxiuana.csv', date_format='index')\n",
    "observacoes_caxiuana.index = pd.to_datetime(observacoes_caxiuana['index'])\n",
    "observacoes_caxiuana = observacoes_caxiuana['GPP']"
   ]
  },
  {
   "cell_type": "code",
   "execution_count": 7,
   "metadata": {},
   "outputs": [],
   "source": [
    "observacoes_caxiuana_diario = pd.read_csv('dados_calculados_torres/observacoes_caxiuana_diario.csv', date_format='index')\n",
    "observacoes_caxiuana_diario.index = pd.to_datetime(observacoes_caxiuana_diario['index'])\n",
    "observacoes_caxiuana_diario = observacoes_caxiuana_diario['GPP']"
   ]
  },
  {
   "cell_type": "markdown",
   "metadata": {},
   "source": [
    "# Carregando GPP do MODIS"
   ]
  },
  {
   "cell_type": "markdown",
   "metadata": {},
   "source": [
    "## Santarem"
   ]
  },
  {
   "cell_type": "code",
   "execution_count": 8,
   "metadata": {},
   "outputs": [],
   "source": [
    "gpp_modis_santarem = pd.read_csv('dados_calculados_torres/gpp_modis_santarem.csv', date_format='index')\n",
    "gpp_modis_santarem.index = pd.to_datetime(gpp_modis_santarem['index'])\n",
    "gpp_modis_santarem = gpp_modis_santarem['GPP']"
   ]
  },
  {
   "cell_type": "markdown",
   "metadata": {},
   "source": [
    "## Peru"
   ]
  },
  {
   "cell_type": "code",
   "execution_count": 9,
   "metadata": {},
   "outputs": [],
   "source": [
    "gpp_modis_peru = pd.read_csv('dados_calculados_torres/gpp_modis_peru.csv', date_format='index')\n",
    "gpp_modis_peru.index = pd.to_datetime(gpp_modis_peru['index'])\n",
    "gpp_modis_peru = gpp_modis_peru['GPP']"
   ]
  },
  {
   "cell_type": "markdown",
   "metadata": {},
   "source": [
    "## Caxiuana"
   ]
  },
  {
   "cell_type": "code",
   "execution_count": 10,
   "metadata": {},
   "outputs": [],
   "source": [
    "gpp_modis_caxiuana = pd.read_csv('dados_calculados_torres/gpp_modis_caxiuana.csv', date_format='index')\n",
    "gpp_modis_caxiuana.index = pd.to_datetime(gpp_modis_caxiuana['index'])\n",
    "gpp_modis_caxiuana = gpp_modis_caxiuana['GPP']"
   ]
  },
  {
   "cell_type": "markdown",
   "metadata": {},
   "source": [
    "# Carregando GPP do Algoritmo do MOD17 (MERRA-2)"
   ]
  },
  {
   "cell_type": "markdown",
   "metadata": {},
   "source": [
    "## Santarem"
   ]
  },
  {
   "cell_type": "code",
   "execution_count": 11,
   "metadata": {},
   "outputs": [],
   "source": [
    "gpp_algpad_santarem = pd.read_csv('dados_calculados_torres/gpp_algpad_santarem.csv', date_format='index')\n",
    "gpp_algpad_santarem.index = pd.to_datetime(gpp_algpad_santarem['index'])\n",
    "gpp_algpad_santarem = gpp_algpad_santarem['GPP']"
   ]
  },
  {
   "cell_type": "code",
   "execution_count": 12,
   "metadata": {},
   "outputs": [],
   "source": [
    "gpp_algpad_santarem_diario = pd.read_csv('dados_calculados_torres/gpp_algpad_santarem_diario.csv', date_format='index')\n",
    "gpp_algpad_santarem_diario.index = pd.to_datetime(gpp_algpad_santarem_diario['index'])\n",
    "gpp_algpad_santarem_diario = gpp_algpad_santarem_diario['GPP']"
   ]
  },
  {
   "cell_type": "markdown",
   "metadata": {},
   "source": [
    "## Peru"
   ]
  },
  {
   "cell_type": "code",
   "execution_count": 13,
   "metadata": {},
   "outputs": [],
   "source": [
    "gpp_algpad_peru = pd.read_csv('dados_calculados_torres/gpp_algpad_peru.csv', date_format='index')\n",
    "gpp_algpad_peru.index = pd.to_datetime(gpp_algpad_peru['index'])\n",
    "gpp_algpad_peru = gpp_algpad_peru['GPP']"
   ]
  },
  {
   "cell_type": "code",
   "execution_count": 14,
   "metadata": {},
   "outputs": [],
   "source": [
    "gpp_algpad_peru_diario = pd.read_csv('dados_calculados_torres/gpp_algpad_peru_diario.csv', date_format='index')\n",
    "gpp_algpad_peru_diario.index = pd.to_datetime(gpp_algpad_peru_diario['index'])\n",
    "gpp_algpad_peru_diario = gpp_algpad_peru_diario['GPP']"
   ]
  },
  {
   "cell_type": "markdown",
   "metadata": {},
   "source": [
    "## Caxiuana"
   ]
  },
  {
   "cell_type": "code",
   "execution_count": 15,
   "metadata": {},
   "outputs": [],
   "source": [
    "gpp_algpad_caxiuana = pd.read_csv('dados_calculados_torres/gpp_algpad_caxiuana.csv', date_format='index')\n",
    "gpp_algpad_caxiuana.index = pd.to_datetime(gpp_algpad_caxiuana['index'])\n",
    "gpp_algpad_caxiuana = gpp_algpad_caxiuana['GPP']"
   ]
  },
  {
   "cell_type": "code",
   "execution_count": 16,
   "metadata": {},
   "outputs": [],
   "source": [
    "gpp_algpad_caxiuana_diario = pd.read_csv('dados_calculados_torres/gpp_algpad_caxiuana_diario.csv', date_format='index')\n",
    "gpp_algpad_caxiuana_diario.index = pd.to_datetime(gpp_algpad_caxiuana_diario['index'])\n",
    "gpp_algpad_caxiuana_diario = gpp_algpad_caxiuana_diario['GPP']"
   ]
  },
  {
   "cell_type": "markdown",
   "metadata": {},
   "source": [
    "# Carregando drivers e indexs"
   ]
  },
  {
   "cell_type": "code",
   "execution_count": 17,
   "metadata": {},
   "outputs": [],
   "source": [
    "index_santarem = pd.date_range(start='2002-01-01', end='2006-12-31', freq='D')\n",
    "index_santarem = index_santarem.union(pd.date_range(start='2008-01-01', end='2011-12-31', freq='D'))\n",
    "index_peru = pd.date_range(start='2018-01-01', end='2019-12-31', freq='D')\n",
    "index_caxiuana = pd.date_range(start='2005-01-01', end='2008-12-31', freq='D')\n",
    "\n",
    "\n",
    "drivers_santarem = np.load('dados_calculados_torres/drivers_santarem.npy')\n",
    "drivers_peru = np.load('dados_calculados_torres/drivers_peru.npy')\n",
    "drivers_caxiuana = np.load('dados_calculados_torres/drivers_caxiuana.npy')\n",
    "\n",
    "\n",
    "drivers_santarem_mes = np.load('dados_calculados_torres/drivers_santarem_mes.npz')\n",
    "drivers_peru_mes = np.load('dados_calculados_torres/drivers_peru_mes.npz')\n",
    "drivers_caxiuana_mes = np.load('dados_calculados_torres/drivers_caxiuana_mes.npz')"
   ]
  },
  {
   "cell_type": "markdown",
   "metadata": {},
   "source": [
    "# Calculando os RMSEs "
   ]
  },
  {
   "cell_type": "code",
   "execution_count": 18,
   "metadata": {},
   "outputs": [],
   "source": [
    "rmse_modis_santarem = np.sqrt(mean_squared_error(y_true=observacoes_santarem, y_pred=gpp_modis_santarem))\n",
    "rmse_algpad_santarem = np.sqrt(mean_squared_error(y_true=observacoes_santarem, y_pred=gpp_algpad_santarem))\n",
    "\n",
    "rmse_modis_peru = np.sqrt(mean_squared_error(y_true=observacoes_peru, y_pred=gpp_modis_peru))\n",
    "rmse_algpad_peru = np.sqrt(mean_squared_error(y_true=observacoes_peru, y_pred=gpp_algpad_peru))\n",
    "\n",
    "rmse_modis_caxiuana = np.sqrt(mean_squared_error(y_true=observacoes_caxiuana, y_pred=gpp_modis_caxiuana))\n",
    "rmse_algpad_caxiuana = np.sqrt(mean_squared_error(y_true=observacoes_caxiuana, y_pred=gpp_algpad_caxiuana))\n",
    "\n",
    "rmse_mes_algpad_santarem = np.zeros(12)\n",
    "rmse_mes_modis_santarem = np.zeros(12)\n",
    "rmse_mes_algpad_santarem_diario = np.zeros(12)\n",
    "for i in range(12):\n",
    "    rmse_mes_algpad_santarem[i] = np.sqrt(mean_squared_error(y_true=observacoes_santarem[observacoes_santarem.index.month == i+1], y_pred=gpp_algpad_santarem[gpp_algpad_santarem.index.month == i+1]))\n",
    "    rmse_mes_modis_santarem[i] = np.sqrt(mean_squared_error(y_true=observacoes_santarem[observacoes_santarem.index.month == i+1], y_pred=gpp_modis_santarem[gpp_modis_santarem.index.month == i+1]))\n",
    "    rmse_mes_algpad_santarem_diario[i] = np.sqrt(mean_squared_error(y_true=observacoes_santarem_diario[observacoes_santarem_diario.index.month == i+1], y_pred=gpp_algpad_santarem_diario[gpp_algpad_santarem_diario.index.month == i+1]))\n",
    "\n",
    "\n",
    "rmse_mes_algpad_peru = np.zeros(12)\n",
    "rmse_mes_modis_peru = np.zeros(12)\n",
    "rmse_mes_algpad_peru_diario = np.zeros(12)\n",
    "for i in range(12):\n",
    "    rmse_mes_algpad_peru[i] = np.sqrt(mean_squared_error(y_true=observacoes_peru[observacoes_peru.index.month == i+1], y_pred=gpp_algpad_peru[gpp_algpad_peru.index.month == i+1]))\n",
    "    rmse_mes_modis_peru[i] = np.sqrt(mean_squared_error(y_true=observacoes_peru[observacoes_peru.index.month == i+1], y_pred=gpp_modis_peru[gpp_modis_peru.index.month == i+1]))\n",
    "    rmse_mes_algpad_peru_diario[i] = np.sqrt(mean_squared_error(y_true=observacoes_peru_diario[observacoes_peru_diario.index.month == i+1], y_pred=gpp_algpad_peru_diario[gpp_algpad_peru_diario.index.month == i+1]))\n",
    "   \n",
    "\n",
    "rmse_mes_algpad_caxiuana = np.zeros(12)\n",
    "rmse_mes_modis_caxiuana = np.zeros(12)\n",
    "rmse_mes_algpad_caxiuana_diario = np.zeros(12)\n",
    "for i in range(12):\n",
    "    rmse_mes_algpad_caxiuana[i] = np.sqrt(mean_squared_error(y_true=observacoes_caxiuana[observacoes_caxiuana.index.month == i+1], y_pred=gpp_algpad_caxiuana[gpp_algpad_caxiuana.index.month == i+1]))\n",
    "    rmse_mes_modis_caxiuana[i] = np.sqrt(mean_squared_error(y_true=observacoes_caxiuana[observacoes_caxiuana.index.month == i+1], y_pred=gpp_modis_caxiuana[gpp_modis_caxiuana.index.month == i+1]))\n",
    "    rmse_mes_algpad_caxiuana_diario[i] = np.sqrt(mean_squared_error(y_true=observacoes_caxiuana_diario[observacoes_caxiuana_diario.index.month == i+1], y_pred=gpp_algpad_caxiuana_diario[gpp_algpad_caxiuana_diario.index.month == i+1]))\n"
   ]
  }
 ],
 "metadata": {
  "kernelspec": {
   "display_name": "mai-dai",
   "language": "python",
   "name": "python3"
  },
  "language_info": {
   "codemirror_mode": {
    "name": "ipython",
    "version": 3
   },
   "file_extension": ".py",
   "mimetype": "text/x-python",
   "name": "python",
   "nbconvert_exporter": "python",
   "pygments_lexer": "ipython3",
   "version": "3.11.8"
  }
 },
 "nbformat": 4,
 "nbformat_minor": 2
}
